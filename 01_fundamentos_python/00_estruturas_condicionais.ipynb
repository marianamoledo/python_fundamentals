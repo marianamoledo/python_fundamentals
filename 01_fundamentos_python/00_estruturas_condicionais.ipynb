{
 "cells": [
  {
   "cell_type": "markdown",
   "metadata": {},
   "source": [
    "# Estruturas Condicionais Básicas"
   ]
  },
  {
   "cell_type": "markdown",
   "metadata": {},
   "source": [
    "## Instrução IF\n",
    "\n",
    "A instrução `if` é uma das estruturas condicionais mais fundamentais na programação. Ela é usada para tomar decisões com base em uma condição booleana (verdadeira ou falsa). Como vai funcionar:\n",
    "\n",
    "* Se a condição for verdadeira (`true`), o bloco de código que está indentado abaixo da instrução `if` será executado.\n",
    "* Caso a condição seja falsa (`false`), o bloco de código dentro do `if` será ignorado e o programa continuará a execução normalmente.\n"
   ]
  },
  {
   "cell_type": "markdown",
   "metadata": {},
   "source": [
    "if O if permite que um bloco de código seja executado se uma condição for verdadeira."
   ]
  },
  {
   "cell_type": "code",
   "execution_count": 6,
   "metadata": {},
   "outputs": [
    {
     "name": "stdout",
     "output_type": "stream",
     "text": [
      "x é maior que 15\n"
     ]
    }
   ],
   "source": [
    "x=30\n",
    "\n",
    "if x>15:\n",
    "    print(\"x é maior que 15\")"
   ]
  },
  {
   "cell_type": "markdown",
   "metadata": {},
   "source": [
    "mas e quando queremos verificar vááárias condições em sequencia? 🤔  \n",
    "daí podemos utilizar o _elif_ (abreviação de \"else if\")!"
   ]
  },
  {
   "cell_type": "markdown",
   "metadata": {},
   "source": [
    "## Instrução ELIF"
   ]
  },
  {
   "cell_type": "markdown",
   "metadata": {},
   "source": [
    "Se a condição do if for falsa, o python verifica a próxima condição do elif e assim por diante... sacou?\n",
    "Vamos pensar num exemplo então?\n",
    "Vamos elaborar um código onde vamos classificar uma pessoa de acordo sua faixa etária:\n",
    "* Criança: Até 12 anos.\n",
    "* Adolescente: Entre 12 e 17 anos.\n",
    "* Adulto: Pode ser definido a partir de 18 até 60 anos.\n",
    "* Idoso: A partir de 60 anos."
   ]
  },
  {
   "cell_type": "code",
   "execution_count": 23,
   "metadata": {},
   "outputs": [
    {
     "name": "stdout",
     "output_type": "stream",
     "text": [
      "Adulto\n"
     ]
    }
   ],
   "source": [
    "idade = 22\n",
    "\n",
    "if idade <12:\n",
    "    print(\"Criança\")\n",
    "elif idade <18:\n",
    "    print (\"Adolescente\")\n",
    "elif idade <60:\n",
    "    print(\"Adulto\")\n",
    "elif idade >=60:\n",
    "    print(\"Idoso\")"
   ]
  },
  {
   "cell_type": "markdown",
   "metadata": {},
   "source": [
    "e se não atender a nenhuma das condições anteriores?"
   ]
  },
  {
   "cell_type": "markdown",
   "metadata": {},
   "source": [
    "## A instrução ELSE"
   ]
  },
  {
   "cell_type": "markdown",
   "metadata": {},
   "source": [
    "A instrução else serve para pegar todas as situações que não foram atendidas pelas condições anteriores (os comandos if e elif).  \n",
    "\n",
    "Ou seja, **ela é como uma \"última chance\" de executar algo, caso nenhuma das condições anteriores tenha sido verdadeira.**\n",
    "\n",
    "Ela não precisa de uma condição para ser verificada; o bloco de código que está dentro do else vai rodar automaticamente se todas as condições anteriores derem errado.  \n",
    "\n",
    "Podemos reescrever o exemplo anterior da seguinte forma utilizando o _else_:"
   ]
  },
  {
   "cell_type": "code",
   "execution_count": 24,
   "metadata": {},
   "outputs": [
    {
     "name": "stdout",
     "output_type": "stream",
     "text": [
      "Idoso\n"
     ]
    }
   ],
   "source": [
    "idade = 70\n",
    "\n",
    "if idade < 12:\n",
    "    print(\"Criança\")\n",
    "elif idade < 18:\n",
    "    print(\"Adolescente\")\n",
    "elif idade < 30:\n",
    "    print(\"Jovem\")\n",
    "elif idade < 60:\n",
    "    print(\"Adulto\")\n",
    "else:\n",
    "    print(\"Idoso\")"
   ]
  },
  {
   "cell_type": "markdown",
   "metadata": {},
   "source": [
    "Vamos pensar em mais um exemplo só pra fechar com chave de ouro?  \n",
    "\n",
    "Vamos criar um código em python utilizando _if_, _elif_ e _else_ para classificar o desempenho de um aluno com base na sua nota e considerando as faixas abaixo:  \n",
    "\n",
    "* Nota abaixo de 5: Reprovado.\n",
    "\n",
    "* Nota entre 5 e 6.9: Recuperação.\n",
    "\n",
    "* Nota entre 7 e 8.9: Bom.\n",
    "\n",
    "* Nota entre 9 e 10: Excelente.\n",
    "\n",
    "* Nota fora do intervalo (menor que 0 ou maior que 10): Nota inválida."
   ]
  },
  {
   "cell_type": "code",
   "execution_count": 44,
   "metadata": {},
   "outputs": [
    {
     "name": "stdout",
     "output_type": "stream",
     "text": [
      "Nota Inválida\n"
     ]
    }
   ],
   "source": [
    "nota = float(input(\"Digite a nota do aluno (0 a 10): \"))\n",
    "\n",
    "if nota < 5: \n",
    "    print (\"Reprovado.\")\n",
    "elif nota < 6.9:\n",
    "    print (\"Recuperação\")\n",
    "elif nota < 8.9:\n",
    "    print (\"Bom\")\n",
    "elif nota <= 10:\n",
    "    print (\"Excelente\")\n",
    "else:\n",
    "    print(\"Nota Inválida\") \n"
   ]
  }
 ],
 "metadata": {
  "kernelspec": {
   "display_name": "base",
   "language": "python",
   "name": "python3"
  },
  "language_info": {
   "codemirror_mode": {
    "name": "ipython",
    "version": 3
   },
   "file_extension": ".py",
   "mimetype": "text/x-python",
   "name": "python",
   "nbconvert_exporter": "python",
   "pygments_lexer": "ipython3",
   "version": "3.10.9"
  }
 },
 "nbformat": 4,
 "nbformat_minor": 2
}
