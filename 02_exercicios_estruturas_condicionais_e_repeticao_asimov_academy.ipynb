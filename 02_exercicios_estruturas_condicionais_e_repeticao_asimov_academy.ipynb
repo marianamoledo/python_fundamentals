{
 "cells": [
  {
   "cell_type": "markdown",
   "metadata": {},
   "source": [
    "<img src=\"https://asimov.academy/wp-content/uploads/2021/01/logo.png\" width=\"200\"/>\n",
    "_____________________________________________\n",
    "\n",
    "## Exercícios #2 - Operadores de comparação e laços\n"
   ]
  },
  {
   "cell_type": "markdown",
   "metadata": {},
   "source": [
    "### Exercício 1\n",
    "Faça um programa para a leitura de duas notas parciais de um aluno. O programa deve calcular a média alcançada por aluno e apresentar:\n",
    "- A mensagem \"Aprovado\", se a média alcançada for maior ou igual a 7;\n",
    "- A mensagem \"Reprovado\", se a média for menor do que 7;\n",
    "- A mensagem \"Aprovado com Distinção\", se a média for igual a 10."
   ]
  },
  {
   "cell_type": "code",
   "execution_count": 7,
   "metadata": {},
   "outputs": [
    {
     "name": "stdout",
     "output_type": "stream",
     "text": [
      "Sua média foi 7.0. Você foi aprovado\n"
     ]
    }
   ],
   "source": [
    "nota_1 = float(input(\"Digite a primeira nota:\"))\n",
    "nota_2 = float(input(\"Digita a segunda nota:\"))\n",
    "media = (nota_1+nota_2)/2\n",
    "\n",
    "if media == 10:\n",
    "    print(f\"Sua média foi {media}. Aprovado com Distinção\")\n",
    "elif media >=7:\n",
    "    print(f\"Sua média foi {media}. Você foi aprovado\")\n",
    "else:\n",
    "    print(f\"Sua média foi {media}. Você foi reprovado\")   "
   ]
  },
  {
   "cell_type": "markdown",
   "metadata": {},
   "source": [
    "### Exercício 2\n",
    "Escreva um script que leia três números e mostre o maior e o menor deles."
   ]
  },
  {
   "cell_type": "code",
   "execution_count": null,
   "metadata": {},
   "outputs": [
    {
     "name": "stdout",
     "output_type": "stream",
     "text": [
      "Os três números foram:5.4,6.8,5.7\n",
      "O menor número é 5.4 e o maior número é 6.8\n"
     ]
    }
   ],
   "source": [
    "numero_1 = float(input(\"Digite o primeiro número:\"))\n",
    "numero_2 = float(input(\"Digite o segundo número:\"))\n",
    "numero_3 = float(input(\"Digite o terceiro número:\"))\n",
    "\n",
    "print(f\"Os três números foram:{numero_1},{numero_2},{numero_3}\")\n",
    "\n",
    "maior = numero_1\n",
    "menor = numero_1\n",
    "\n",
    "if numero_2 > maior:\n",
    "    maior = numero_2\n",
    "    \n",
    "if numero_3 > maior:\n",
    "    maior = numero_3\n",
    "\n",
    "if numero_2 < menor:\n",
    "    menor = numero_2\n",
    "    \n",
    "if numero_3 < menor:\n",
    "    menor = numero_3\n",
    "    \n",
    "print(f\"O menor número é {menor} e o maior número é {maior}\")"
   ]
  },
  {
   "cell_type": "markdown",
   "metadata": {},
   "source": [
    "### Exercício 3 \n",
    "Nome na vertical em escada. \n",
    "\n",
    "F<br>\n",
    "FU<br>\n",
    "FUL<br>\n",
    "FULA<br>\n",
    "FULAN<br>\n",
    "FULANO<br>"
   ]
  },
  {
   "cell_type": "code",
   "execution_count": 5,
   "metadata": {},
   "outputs": [
    {
     "name": "stdout",
     "output_type": "stream",
     "text": [
      "\n",
      "M\n",
      "Ma\n",
      "Mar\n",
      "Mari\n",
      "Maria\n",
      "Marian\n",
      "Mariana\n"
     ]
    }
   ],
   "source": [
    "nome = input(\"Digite um nome:\")\n",
    "for i in range(len(nome)+1):\n",
    "    print(nome[:i])\n",
    "    "
   ]
  },
  {
   "cell_type": "markdown",
   "metadata": {},
   "source": [
    "### Exercício 4\n",
    "A série de Fibonacci é formada pela seqüência 1,1,2,3,5,8,13,21,34,55,... (o próximo termo, a partir do terceiro, é sempre gerado a partir do somatório dos últimos dois). Faça um programa capaz de gerar a série até o n−ésimo termo (onde o valor n deve ser inserido pelo usuário)."
   ]
  },
  {
   "cell_type": "code",
   "execution_count": 17,
   "metadata": {},
   "outputs": [
    {
     "name": "stdout",
     "output_type": "stream",
     "text": [
      "1\n",
      "1\n",
      "2\n",
      "3\n",
      "5\n",
      "8\n",
      "13\n"
     ]
    }
   ],
   "source": [
    "n = int(input(\"Selecione um n-ésimo termo:\"))\n",
    "\n",
    "v0 = 0\n",
    "v1 = 1\n",
    "v = 1\n",
    "\n",
    "print(1)\n",
    "for i in range(n):\n",
    "    print(v)\n",
    "    v0 = v1\n",
    "    v1 = v\n",
    "    v = v1+v0"
   ]
  },
  {
   "cell_type": "markdown",
   "metadata": {},
   "source": [
    "### Exercício 5\n",
    "Faça um programa que leia e valide as seguintes informações:\n",
    "- Nome: maior que 3 caracteres;\n",
    "- Idade: entre 0 e 150;\n",
    "- Salário: maior que zero;\n",
    "- Sexo: 'f' ou 'm';\n",
    "- Estado Civil: 's', 'c', 'v', 'd';"
   ]
  },
  {
   "cell_type": "code",
   "execution_count": 21,
   "metadata": {},
   "outputs": [],
   "source": [
    "nome = input(\"Digite seu Nome:\")\n",
    "while len(nome) <= 3:\n",
    "    print (\"O nome deve conter mais de 3 caracteres!\")\n",
    "    nome = input(\"Digite seu Nome:\")\n",
    "\n",
    "idade = int(input(\"Digite sua Idade:\"))\n",
    "while (idade <= 0) or (idade >= 150):\n",
    "    print (\"A idade deve estar entre 0 e 150!\")\n",
    "    idade = int(input(\"Digite sua Idade:\"))\n",
    "\n",
    "salario = float(input(\"Digite seu salário:\"))\n",
    "while salario <= 0:\n",
    "    print (\"O salario deve ser maior que 0!\")\n",
    "    salario = float(input(\"Digite seu salário:\"))\n",
    "\n",
    "sexo = input(\"Digite seu sexo:\")\n",
    "while sexo not in [\"f\", \"m\"]:\n",
    "    print (\"O sexo deve ser 'm' ou 'f'!\")\n",
    "    sexo = input(\"Digite seu sexo:\")\n",
    "\n",
    "estado_civil = input(\"Digite seu estado civil:\")\n",
    "while estado_civil not in [\"s\", \"c\",\"v\",\"d\"]:\n",
    "    print (\"O sexo deve ser 's', 'c','v','d'!\")\n",
    "    estado_civil = input(\"Digite seu estado civil:\")\n"
   ]
  },
  {
   "cell_type": "markdown",
   "metadata": {},
   "source": [
    "### Exercício 6\n",
    "Faça um programa que peça um número inteiro e determine se ele é ou não um número primo. Um número primo é aquele que é divisível somente por ele mesmo e por 1. \n",
    "Dica: Utilize o operador aritmético `%`, que retorna o resto da divisão de dois números."
   ]
  },
  {
   "cell_type": "code",
   "execution_count": 5,
   "metadata": {},
   "outputs": [
    {
     "name": "stdout",
     "output_type": "stream",
     "text": [
      "O número 13 é primo!\n"
     ]
    }
   ],
   "source": [
    "numero = int(input(\"Digite um número:\"))\n",
    "\n",
    "validacao = 0\n",
    "\n",
    "for i in range(2,numero):\n",
    "    if numero % i == 0:\n",
    "        validacao = 1\n",
    "        break\n",
    "\n",
    "if validacao == 0:\n",
    "    print(f\"O número {numero} é primo!\")\n",
    "else:\n",
    "    print(f\"O número {numero} não é primo!\")\n"
   ]
  }
 ],
 "metadata": {
  "kernelspec": {
   "display_name": "base",
   "language": "python",
   "name": "python3"
  },
  "language_info": {
   "codemirror_mode": {
    "name": "ipython",
    "version": 3
   },
   "file_extension": ".py",
   "mimetype": "text/x-python",
   "name": "python",
   "nbconvert_exporter": "python",
   "pygments_lexer": "ipython3",
   "version": "3.9.13"
  }
 },
 "nbformat": 4,
 "nbformat_minor": 4
}
