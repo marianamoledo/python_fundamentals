{
 "cells": [
  {
   "cell_type": "markdown",
   "metadata": {},
   "source": [
    "<img src=\"https://asimov.academy/wp-content/uploads/2021/01/logo.png\" width=\"200\"/>\n",
    "_____________________________________________\n",
    "\n",
    "## Exercícios #1 - Estruturas de dados (ASIMOV Academy)\n"
   ]
  },
  {
   "cell_type": "markdown",
   "metadata": {},
   "source": [
    "### Exercício 1\n",
    "Utilizando o built-in method input(), crie um programa que receba a altura e o peso de uma pessoa e imprima na tela o IMC da mesma."
   ]
  },
  {
   "cell_type": "code",
   "execution_count": 26,
   "metadata": {},
   "outputs": [
    {
     "name": "stdout",
     "output_type": "stream",
     "text": [
      "O peso informado foi: 43.3kg\n"
     ]
    }
   ],
   "source": [
    "peso = float(input(\"Informe seu peso(kg):\"))\n",
    "print(f\"O peso informado foi: {peso}kg\")"
   ]
  },
  {
   "cell_type": "code",
   "execution_count": 27,
   "metadata": {},
   "outputs": [
    {
     "name": "stdout",
     "output_type": "stream",
     "text": [
      "A altura informada foi: 1.63m\n"
     ]
    }
   ],
   "source": [
    "altura = float(input(\"Informe sua altura(m):\"))\n",
    "print(f\"A altura informada foi: {altura}m\")"
   ]
  },
  {
   "cell_type": "code",
   "execution_count": 28,
   "metadata": {},
   "outputs": [
    {
     "name": "stdout",
     "output_type": "stream",
     "text": [
      "Seu IMC é: 16.30\n"
     ]
    }
   ],
   "source": [
    "IMC = peso/(altura**2)\n",
    "print(f\"Seu IMC é: {IMC:.2f}\")"
   ]
  },
  {
   "cell_type": "markdown",
   "metadata": {},
   "source": [
    "### Exercício 2 \n",
    "Escreva um programa que pergunte o nome completo do usuário e cumprimente o mesmo pelo primeiro nome."
   ]
  },
  {
   "cell_type": "code",
   "execution_count": null,
   "metadata": {},
   "outputs": [
    {
     "name": "stdout",
     "output_type": "stream",
     "text": [
      "Olá! Mariana\n"
     ]
    }
   ],
   "source": [
    "nome = input(\"Digite seu nome completo:\")\n",
    "\n",
    "print(f\"Olá! {nome.split()[0]}\")"
   ]
  },
  {
   "cell_type": "markdown",
   "metadata": {},
   "source": [
    "### Exercício 3\n",
    "Desenho um código que extraia o domínio de um e-mail informado."
   ]
  },
  {
   "cell_type": "code",
   "execution_count": 29,
   "metadata": {},
   "outputs": [
    {
     "name": "stdout",
     "output_type": "stream",
     "text": [
      "O e-mail informado foi marianamoledomoreira@gmail.com\n",
      "Seu domínio: gmail.com\n"
     ]
    }
   ],
   "source": [
    "email = input(\"Digite seu e-mail:\")\n",
    "\n",
    "print(f\"O e-mail informado foi {email}\")\n",
    "\n",
    "dominio = email.split(\"@\")[-1]\n",
    "print(f\"Seu domínio: {dominio}\")"
   ]
  },
  {
   "cell_type": "markdown",
   "metadata": {},
   "source": [
    "### Exercício 4 \n",
    "Faça um programa para uma loja de tintas. A pessoa informa a área em m2 que deseja pintar, e o script calculará a quantidade de latas de tinta que a pessoa deve comprar e o valor. Considere que cada litro de tinta pinta 3m2, que cada lata contém 18L e que custa R$ 80."
   ]
  },
  {
   "cell_type": "code",
   "execution_count": 20,
   "metadata": {},
   "outputs": [
    {
     "name": "stdout",
     "output_type": "stream",
     "text": [
      "Litros de tinta necessários: 10.00\n",
      "Qtd de latas de tinta necessárias: 1\n",
      "Valor a pagar: R$ 44.44\n"
     ]
    }
   ],
   "source": [
    "import math\n",
    "\n",
    "area_pintura = float(input (\"Informe a área em m2 que deseja pintar:\"))\n",
    "\n",
    "litros_necessarios = area_pintura/3\n",
    "print(f\"Litros de tinta necessários: {litros_necessarios:.2f}\")\n",
    "\n",
    "latas_necessarias = litros_necessarios/18\n",
    "print(f\"Qtd de latas de tinta necessárias: {latas_necessarias:.0f}\")\n",
    "\n",
    "valor = latas_necessarias*80.00\n",
    "print(f\"Valor a pagar: R$ {valor:.2f}\")\n"
   ]
  },
  {
   "cell_type": "markdown",
   "metadata": {},
   "source": [
    "### Exercício 5\n",
    "Faça um Programa que pergunte quanto você ganha por hora e o número de horas trabalhadas no mês. Calcule e mostre o total do seu salário no referido mês, sabendo-se que são descontados 11% para o Imposto de Renda, 8% para o INSS e 5% para o sindicato, faça um programa que nos dê:\n",
    "1. Salário bruto.\n",
    "2. Quanto pagou ao INSS.\n",
    "3. Quanto pagou ao sindicato.\n",
    "4. O salário líquido."
   ]
  },
  {
   "cell_type": "code",
   "execution_count": 25,
   "metadata": {},
   "outputs": [
    {
     "name": "stdout",
     "output_type": "stream",
     "text": [
      "Salário Bruto: R$ 6000.00\n",
      "Você pagou de Imposto de Renda (11%): R$ 660.00\n",
      "Você pagou de INSS (8%): R$ 480.00\n",
      "Você pagou ao sindicato (5%): R$ 300.00\n",
      "--------------------------------------------\n",
      "Salário líquido: R$ 4560.00\n"
     ]
    }
   ],
   "source": [
    "preço_por_hora = float(input(\"Quanto você ganha por hora?\"))\n",
    "horas_trabalhadas = float(input (\"Quantas horas você trabalhou no mês?\"))\n",
    "\n",
    "salario_bruto = preço_por_hora*horas_trabalhadas\n",
    "print (f\"Salário Bruto: R$ {salario_bruto:.2f}\")\n",
    "\n",
    "imposto_de_renda = salario_bruto*0.11\n",
    "print(f\"Você pagou de Imposto de Renda (11%): R$ {imposto_de_renda:.2f}\")\n",
    "\n",
    "inss = salario_bruto*0.08\n",
    "print(f\"Você pagou de INSS (8%): R$ {inss:.2f}\")\n",
    "\n",
    "sindicato = salario_bruto*0.05\n",
    "print(f\"Você pagou ao sindicato (5%): R$ {sindicato:.2f}\")\n",
    "\n",
    "salario_liquido=salario_bruto-(imposto_de_renda + inss + sindicato)\n",
    "\n",
    "print (\"--------------------------------------------\")\n",
    "print (f\"Salário líquido: R$ {salario_liquido:.2f}\")\n"
   ]
  }
 ],
 "metadata": {
  "kernelspec": {
   "display_name": "base",
   "language": "python",
   "name": "python3"
  },
  "language_info": {
   "codemirror_mode": {
    "name": "ipython",
    "version": 3
   },
   "file_extension": ".py",
   "mimetype": "text/x-python",
   "name": "python",
   "nbconvert_exporter": "python",
   "pygments_lexer": "ipython3",
   "version": "3.10.9"
  }
 },
 "nbformat": 4,
 "nbformat_minor": 4
}
