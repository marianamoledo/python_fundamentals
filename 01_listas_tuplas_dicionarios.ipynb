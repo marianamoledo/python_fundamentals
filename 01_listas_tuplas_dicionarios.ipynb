{
 "cells": [
  {
   "cell_type": "markdown",
   "metadata": {},
   "source": [
    "Python oferece diferentes estruturas para armazenar e organizar dados de maneira eficiente. Vamos ver cada uma delas aqui!\n",
    "\n",
    "## Listas 📦\n",
    "\n",
    "Imagine que você tem uma caixa de sapatos e, dentro dela, pode colocar vários pares de sapatos enfileirados.  \n",
    "\n",
    "Daí você pode:  \n",
    "✔️ Adicionar novos sapatos à caixa.  \n",
    "✔️ Remover sapatos que não quer mais.  \n",
    "✔️ Trocar um sapato por outro.  \n",
    "✔️ Pegar um sapato específico pelo número da posição dele na caixa.  \n",
    "\n",
    "No mundo do Python, essa caixa de sapatos seria uma **lista**, e os sapatos dentro dela seriam os elementos armazenados. Vamos ver como vai ficar no código, mas antes preciso te mostrar como é a estrutura básica de uma lista:\n",
    "\n",
    "### Estrutura Básica:\n",
    "Uma lista é criada com colchetes `[]`, e os elementos são separados por vírgulas. Os itens podem ser de qualquer tipo de dado, como números, strings ou até outras listas.\n",
    "\n",
    "`minha_lista = [item1, item2, item3, ...]`\n",
    "\n",
    "Agora vamos criar nossa lista de caixa de sapatos? 😝"
   ]
  },
  {
   "cell_type": "code",
   "execution_count": 1,
   "metadata": {},
   "outputs": [],
   "source": [
    "# Criando uma lista com os sapatos\n",
    "sapatos = [\"Tênis\", \"Chinelo\", \"Bota\", \"Sandália\"]"
   ]
  },
  {
   "cell_type": "markdown",
   "metadata": {},
   "source": [
    "e se eu quiser acessar somente um elemento da minha lista? Por exemplo, digamos que eu quero pegar somente a bota. Como posso fazer isso? 🤔 \n",
    "\n",
    "> **Nas listas, cada valor é identificado por um índice.** O primeiro item na lista está no índice `0`, o segundo no índice `1` e assim por diante...\n",
    "\n",
    "Ou seja, \n",
    "\n",
    "`Índice 0: Tênis`  \n",
    "`Índice 1: Chinelo`  \n",
    "`Índice 2: Bota`  \n",
    "`Índice 3: Sandália`\n",
    "\n",
    "Daí, para acessar um único elemento de uma lista, podemos usar o índice do item que deseja pegar!\n",
    "\n",
    "#### Por exemplo, para acessarmos a \"Bota\":\n",
    "A \"Bota\" está no índice 2, então podemos fazer assim:"
   ]
  },
  {
   "cell_type": "code",
   "execution_count": 2,
   "metadata": {},
   "outputs": [
    {
     "name": "stdout",
     "output_type": "stream",
     "text": [
      "Bota\n"
     ]
    }
   ],
   "source": [
    "print(sapatos[2])"
   ]
  },
  {
   "cell_type": "markdown",
   "metadata": {},
   "source": [
    "Se quisermos pegar o **último** elemento de uma lista, pode usar um índice negativo.  \n",
    "No Python, os índices negativos começam de `-1` (para o último item), `-2`(para o penúltimo item), e assim por diante. Então, para pegar o último elemento da lista, podemos acessar da seguinte forma:"
   ]
  },
  {
   "cell_type": "code",
   "execution_count": 3,
   "metadata": {},
   "outputs": [
    {
     "name": "stdout",
     "output_type": "stream",
     "text": [
      "Sandália\n"
     ]
    }
   ],
   "source": [
    "print(sapatos[-1])"
   ]
  },
  {
   "cell_type": "markdown",
   "metadata": {},
   "source": [
    "Ou então se quisermos pegar a nossa bota, que é o antepenúltimo item da lista, também podemos fazer assim:"
   ]
  },
  {
   "cell_type": "code",
   "execution_count": 4,
   "metadata": {},
   "outputs": [
    {
     "name": "stdout",
     "output_type": "stream",
     "text": [
      "Bota\n"
     ]
    }
   ],
   "source": [
    "print(sapatos[-2])"
   ]
  },
  {
   "cell_type": "markdown",
   "metadata": {},
   "source": [
    "Como podemos fazer para adicionar e/ou remover elementos da nossa caixa de sapatos (lista)? 🤔"
   ]
  },
  {
   "cell_type": "markdown",
   "metadata": {},
   "source": [
    "### Adicionar elementos ➕\n",
    "* append(item) → Adiciona um item ao final da lista.  \n",
    "\n",
    "* insert(posição, item) → Insere um item em uma posição específica."
   ]
  },
  {
   "cell_type": "code",
   "execution_count": 5,
   "metadata": {},
   "outputs": [
    {
     "name": "stdout",
     "output_type": "stream",
     "text": [
      "['Tênis', 'Chinelo']\n"
     ]
    }
   ],
   "source": [
    "sapatos = [\"Tênis\", \"Chinelo\"]\n",
    "print(sapatos)"
   ]
  },
  {
   "cell_type": "markdown",
   "metadata": {},
   "source": [
    "Se quisermos adicionar a nossa lista uma \"Bota\", podemos fazer utilizando o append(item):"
   ]
  },
  {
   "cell_type": "code",
   "execution_count": 6,
   "metadata": {},
   "outputs": [
    {
     "name": "stdout",
     "output_type": "stream",
     "text": [
      "['Tênis', 'Chinelo', 'Bota']\n"
     ]
    }
   ],
   "source": [
    "sapatos.append(\"Bota\")\n",
    "print(sapatos)"
   ]
  },
  {
   "cell_type": "markdown",
   "metadata": {},
   "source": [
    "Ou então se quisermos adicionar a sandália entre o tênis e o chinelo, utilizamos o insert:"
   ]
  },
  {
   "cell_type": "code",
   "execution_count": 7,
   "metadata": {},
   "outputs": [
    {
     "name": "stdout",
     "output_type": "stream",
     "text": [
      "['Tênis', 'Sandália', 'Chinelo', 'Bota']\n"
     ]
    }
   ],
   "source": [
    "sapatos.insert(1,\"Sandália\") #Lembrando que o item é o tênis, então queremos colocar a sandália no item 1.\n",
    "print(sapatos)"
   ]
  },
  {
   "cell_type": "markdown",
   "metadata": {},
   "source": [
    "### Remover elementos ➖\n",
    "* Clear() → limpa a lista\n",
    "\n",
    "* remove(item) → remove a primeira ocorrencia do item da lista. \n",
    "\n",
    "* pop(posição) → remove e retorna o item de uma posicao específica."
   ]
  },
  {
   "cell_type": "markdown",
   "metadata": {},
   "source": [
    "Se eu quiser remover o Chinelo da minha lista, posso utilizar o remove:"
   ]
  },
  {
   "cell_type": "code",
   "execution_count": 8,
   "metadata": {},
   "outputs": [
    {
     "name": "stdout",
     "output_type": "stream",
     "text": [
      "['Tênis', 'Sandália', 'Bota']\n"
     ]
    }
   ],
   "source": [
    "sapatos.remove(\"Chinelo\")\n",
    "print(sapatos)"
   ]
  },
  {
   "cell_type": "markdown",
   "metadata": {},
   "source": [
    "Se eu quiser remover a sandália (índice 1) e retornar esse valor, posso utilizar o pop:"
   ]
  },
  {
   "cell_type": "code",
   "execution_count": null,
   "metadata": {},
   "outputs": [],
   "source": [
    "item_retirado = sapatos.pop(1)"
   ]
  },
  {
   "cell_type": "code",
   "execution_count": 10,
   "metadata": {},
   "outputs": [
    {
     "name": "stdout",
     "output_type": "stream",
     "text": [
      "['Tênis', 'Bota']\n"
     ]
    }
   ],
   "source": [
    "print(sapatos)"
   ]
  },
  {
   "cell_type": "markdown",
   "metadata": {},
   "source": [
    "Se eu quiser limpar a lista toda, posso utilizar o clear:"
   ]
  },
  {
   "cell_type": "code",
   "execution_count": 11,
   "metadata": {},
   "outputs": [
    {
     "name": "stdout",
     "output_type": "stream",
     "text": [
      "[]\n"
     ]
    }
   ],
   "source": [
    "sapatos.clear()\n",
    "print(sapatos)"
   ]
  }
 ],
 "metadata": {
  "kernelspec": {
   "display_name": "base",
   "language": "python",
   "name": "python3"
  },
  "language_info": {
   "codemirror_mode": {
    "name": "ipython",
    "version": 3
   },
   "file_extension": ".py",
   "mimetype": "text/x-python",
   "name": "python",
   "nbconvert_exporter": "python",
   "pygments_lexer": "ipython3",
   "version": "3.10.9"
  }
 },
 "nbformat": 4,
 "nbformat_minor": 2
}
